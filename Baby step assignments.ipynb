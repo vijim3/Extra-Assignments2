{
 "cells": [
  {
   "cell_type": "code",
   "execution_count": 3,
   "id": "aa5aeed6-5417-4684-9ba7-317bec3a94cd",
   "metadata": {},
   "outputs": [
    {
     "name": "stdout",
     "output_type": "stream",
     "text": [
      "Welcome to Asssignment-1\n"
     ]
    }
   ],
   "source": [
    "print(\"Welcome to Asssignment-1\") "
   ]
  },
  {
   "cell_type": "code",
   "execution_count": 7,
   "id": "ec92c4ba-34b6-4e10-b10a-ed6a7ee57334",
   "metadata": {},
   "outputs": [
    {
     "name": "stdin",
     "output_type": "stream",
     "text": [
      "Num1= 10\n",
      "Num2= 30\n"
     ]
    },
    {
     "name": "stdout",
     "output_type": "stream",
     "text": [
      "Add= 40\n"
     ]
    }
   ],
   "source": [
    "num1=int(input(\"Num1=\"))\n",
    "num2=int(input(\"Num2=\"))\n",
    "add=num1+num2\n",
    "print(\"Add=\",add)"
   ]
  },
  {
   "cell_type": "code",
   "execution_count": 22,
   "id": "7ff0afe4-64d9-4ada-87d3-792c99544fbb",
   "metadata": {},
   "outputs": [
    {
     "name": "stdin",
     "output_type": "stream",
     "text": [
      "Enter the BMI Index: 34\n"
     ]
    },
    {
     "name": "stdout",
     "output_type": "stream",
     "text": [
      "very overweight\n"
     ]
    }
   ],
   "source": [
    "bmi=int(input(\"Enter the BMI Index:\"))\n",
    "if bmi<=16:\n",
    "    print(\"very underweight\")\n",
    "elif bmi<=18.5:\n",
    "    print(\"underweight\")\n",
    "elif bmi<=25:\n",
    "    print(\"Healthy\")\n",
    "elif bmi<=30:\n",
    "    print(\"overweight\")\n",
    "else:\n",
    "    print(\"very overweight\")"
   ]
  },
  {
   "cell_type": "code",
   "execution_count": null,
   "id": "14606e87-3333-43a7-af87-0c49c851fde6",
   "metadata": {},
   "outputs": [],
   "source": []
  }
 ],
 "metadata": {
  "kernelspec": {
   "display_name": "Python 3 (ipykernel)",
   "language": "python",
   "name": "python3"
  },
  "language_info": {
   "codemirror_mode": {
    "name": "ipython",
    "version": 3
   },
   "file_extension": ".py",
   "mimetype": "text/x-python",
   "name": "python",
   "nbconvert_exporter": "python",
   "pygments_lexer": "ipython3",
   "version": "3.12.7"
  }
 },
 "nbformat": 4,
 "nbformat_minor": 5
}
